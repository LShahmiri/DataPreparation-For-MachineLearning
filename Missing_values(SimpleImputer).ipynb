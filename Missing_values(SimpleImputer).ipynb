{
 "cells": [
  {
   "cell_type": "code",
   "execution_count": null,
   "id": "df0a9a9b",
   "metadata": {},
   "outputs": [],
   "source": [
    "import pandas as pd \n",
    "import numpy as np\n",
    "from sklearn.impute import SimpleImputer\n",
    "\n",
    "\n",
    "my_df = pd.DataFrame({\"A\":[1,4,7,10,13],\n",
    "                      \"B\":[3,6,9,np.nan,15],\n",
    "                      \"C\":[2,5,np.nan,11,np.nan]})\n",
    "imputer = SimpleImputer() \n",
    "imputer.fit(my_df)\n",
    "imputer.transform(my_df)\n",
    "my_df1 = imputer.transform(my_df) \n",
    "\n",
    "# We can do fit and transform both at once\n",
    "imputer.fit_transform(my_df) \n",
    "\n",
    "# Convert to DataFrame\n",
    "my_df2 = pd.DataFrame(imputer.fit_transform(my_df), columns=my_df.columns)\n",
    "# Apply for some columns\n",
    "imputer.fit_transform(my_df[[\"B\"]])\n",
    "my_df[\"B\"] = imputer.fit_transform(my_df[[\"B\"]])"
   ]
  }
 ],
 "metadata": {
  "kernelspec": {
   "display_name": "Python 3",
   "language": "python",
   "name": "python3"
  },
  "language_info": {
   "name": "python",
   "version": "3.12.10"
  }
 },
 "nbformat": 4,
 "nbformat_minor": 5
}
